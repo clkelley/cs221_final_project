{
 "cells": [
  {
   "cell_type": "code",
   "execution_count": 7,
   "metadata": {},
   "outputs": [],
   "source": [
    "import util\n",
    "import numpy as np\n",
    "from Bio import Entrez\n",
    "import pickle"
   ]
  },
  {
   "cell_type": "code",
   "execution_count": 6,
   "metadata": {},
   "outputs": [],
   "source": [
    "from sklearn.decomposition import LatentDirichletAllocation\n",
    "import scipy.sparse as sparse"
   ]
  },
  {
   "cell_type": "code",
   "execution_count": 8,
   "metadata": {},
   "outputs": [],
   "source": [
    "with open('gene_names.dat', mode='rb') as f:\n",
    "    gene_names = pickle.load(f)"
   ]
  },
  {
   "cell_type": "code",
   "execution_count": 5,
   "metadata": {},
   "outputs": [],
   "source": [
    "num_topics = [6, 6, 7, 7, 7, 6, 7]\n",
    "times = [4, 6, 8, 10, 14, 18, 24]"
   ]
  },
  {
   "cell_type": "code",
   "execution_count": null,
   "metadata": {},
   "outputs": [],
   "source": [
    "def fit_top_genes():\n",
    "    for i in range(len(num_topics)):\n",
    "        data = sparse.load_npz(f'{times[i]}hpf_sparse.npz')\n",
    "        lda = LatentDirichletAllocation(n_components=num_topics[i], n_jobs=-1)\n",
    "        lda.fit(data)\n",
    "    \n",
    "        top_genes = np.argsort(lda.components_, axis=1)\n",
    "        for j in range(num_topics[i]):\n",
    "            names = [gene_names[name] for name in top_genes[j, -10:]]\n",
    "    return "
   ]
  }
 ],
 "metadata": {
  "kernelspec": {
   "display_name": "Python 3",
   "language": "python",
   "name": "python3"
  },
  "language_info": {
   "codemirror_mode": {
    "name": "ipython",
    "version": 3
   },
   "file_extension": ".py",
   "mimetype": "text/x-python",
   "name": "python",
   "nbconvert_exporter": "python",
   "pygments_lexer": "ipython3",
   "version": "3.7.5"
  }
 },
 "nbformat": 4,
 "nbformat_minor": 2
}
