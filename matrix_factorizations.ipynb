{
 "cells": [
  {
   "cell_type": "code",
   "execution_count": 3,
   "metadata": {},
   "outputs": [],
   "source": [
    "import numpy as np\n",
    "import pickle\n",
    "import util"
   ]
  },
  {
   "cell_type": "markdown",
   "metadata": {},
   "source": [
    "### Load data"
   ]
  },
  {
   "cell_type": "code",
   "execution_count": 7,
   "metadata": {},
   "outputs": [],
   "source": [
    "datapath = \"/home/asd/data/gsm/\"\n",
    "hour10 = util.load_regular_sample_file(datapath, 10)\n",
    "hour8 = util.load_regular_sample_file(datapath, 8)"
   ]
  },
  {
   "cell_type": "markdown",
   "metadata": {},
   "source": [
    "### Set up some low rank models\n",
    "\n",
    "Models worth trying include\n",
    "- PCA\n",
    "- NMF\n",
    "- Sparse variants of PCA and NMF"
   ]
  },
  {
   "cell_type": "code",
   "execution_count": 9,
   "metadata": {},
   "outputs": [],
   "source": [
    "def fit_nmf(data, k):\n",
    "    nmf = NMF(n_components=k, init=\"nndsvd\", solver=\"cd\")\n",
    "    W = nmf.fit_transform(data)\n",
    "    H = nmf.components_\n",
    "    return W, H, np.linalg.norm(np.dot(W, H) - data) / np.linalg.norm(data)"
   ]
  },
  {
   "cell_type": "code",
   "execution_count": 10,
   "metadata": {},
   "outputs": [
    {
     "name": "stdout",
     "output_type": "stream",
     "text": [
      "Loss: 0.2654755924721412\n"
     ]
    }
   ],
   "source": [
    "W8, H8, loss8 = fit_nmf(hour8, 50)\n",
    "print(\"Loss:\", loss8)"
   ]
  },
  {
   "cell_type": "code",
   "execution_count": 11,
   "metadata": {},
   "outputs": [
    {
     "name": "stdout",
     "output_type": "stream",
     "text": [
      "Loss: 0.23548096087104697\n"
     ]
    }
   ],
   "source": [
    "W10, H10, loss10 = fit_nmf(hour10, 50)\n",
    "print(\"Loss:\", loss10)"
   ]
  },
  {
   "cell_type": "markdown",
   "metadata": {},
   "source": [
    "### Now have these models vary over time\n",
    "\n",
    "We have data that varies over time, but comes from the same underlying \"process.\" Let's model this as a series of matrix factorizations. Our objective function will be\n",
    "\n",
    "$$ \n",
    "J(W, H) \n",
    "= \n",
    "\\sum_{t=1}^T  \\| W^{(t)} H^{(t)} - X^{(t)} \\|_F^2 \n",
    "+ \\sum_{t=2}^T  \\| H^{(t)} - H^{(t-1)} \\|_F^2 \n",
    "+ R(W, H)\n",
    "$$\n",
    "\n",
    "where $R(W,H)$ is an additional regularizer, e.g. nonnegativity, sparsity, etc.\n",
    "\n",
    "Some questions:\n",
    "- What if we formulate this as a Bayesian network, where the factors $H$ form a Markov process, but ottherwise everything is the same.\n",
    "- Is there a natural Bayesian network interpretation of these update rules, which can then be generalized to larger networks?"
   ]
  },
  {
   "cell_type": "markdown",
   "metadata": {},
   "source": []
  },
  {
   "cell_type": "code",
   "execution_count": null,
   "metadata": {},
   "outputs": [],
   "source": []
  }
 ],
 "metadata": {
  "kernelspec": {
   "display_name": "Python 3",
   "language": "python",
   "name": "python3"
  },
  "language_info": {
   "codemirror_mode": {
    "name": "ipython",
    "version": 3
   },
   "file_extension": ".py",
   "mimetype": "text/x-python",
   "name": "python",
   "nbconvert_exporter": "python",
   "pygments_lexer": "ipython3",
   "version": "3.7.5"
  }
 },
 "nbformat": 4,
 "nbformat_minor": 2
}
